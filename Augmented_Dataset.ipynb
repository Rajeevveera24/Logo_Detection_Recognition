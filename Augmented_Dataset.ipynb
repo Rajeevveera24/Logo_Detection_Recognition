{
  "nbformat": 4,
  "nbformat_minor": 0,
  "metadata": {
    "colab": {
      "name": "Augmented_Dataset.ipynb",
      "provenance": [],
      "collapsed_sections": [],
      "machine_shape": "hm"
    },
    "kernelspec": {
      "name": "python3",
      "display_name": "Python 3"
    },
    "accelerator": "GPU"
  },
  "cells": [
    {
      "cell_type": "code",
      "metadata": {
        "id": "oi-MHDZ4UE-9",
        "colab_type": "code",
        "outputId": "fd2c3feb-4039-441d-e5bd-02d85ce74890",
        "colab": {
          "base_uri": "https://localhost:8080/",
          "height": 128
        }
      },
      "source": [
        "from google.colab import drive\n",
        "drive.mount('/content/drive')"
      ],
      "execution_count": 1,
      "outputs": [
        {
          "output_type": "stream",
          "text": [
            "Go to this URL in a browser: https://accounts.google.com/o/oauth2/auth?client_id=947318989803-6bn6qk8qdgf4n4g3pfee6491hc0brc4i.apps.googleusercontent.com&redirect_uri=urn%3aietf%3awg%3aoauth%3a2.0%3aoob&response_type=code&scope=email%20https%3a%2f%2fwww.googleapis.com%2fauth%2fdocs.test%20https%3a%2f%2fwww.googleapis.com%2fauth%2fdrive%20https%3a%2f%2fwww.googleapis.com%2fauth%2fdrive.photos.readonly%20https%3a%2f%2fwww.googleapis.com%2fauth%2fpeopleapi.readonly\n",
            "\n",
            "Enter your authorization code:\n",
            "··········\n",
            "Mounted at /content/drive\n"
          ],
          "name": "stdout"
        }
      ]
    },
    {
      "cell_type": "code",
      "metadata": {
        "id": "76Q5A3UEUNiN",
        "colab_type": "code",
        "outputId": "993955c2-bd71-4f35-deec-1d783166432d",
        "colab": {
          "base_uri": "https://localhost:8080/",
          "height": 35
        }
      },
      "source": [
        "%cd drive/My\\ Drive/LogoDetection/qmul_toplogo10/"
      ],
      "execution_count": 2,
      "outputs": [
        {
          "output_type": "stream",
          "text": [
            "/content/drive/My Drive/LogoDetection/qmul_toplogo10\n"
          ],
          "name": "stdout"
        }
      ]
    },
    {
      "cell_type": "code",
      "metadata": {
        "id": "CFToW1JdUjIH",
        "colab_type": "code",
        "outputId": "693c20ec-eb88-456d-d266-7b6d0c5d859c",
        "colab": {
          "base_uri": "https://localhost:8080/",
          "height": 35
        }
      },
      "source": [
        "import os\n",
        "import numpy as np\n",
        "%tensorflow_version 1.x\n",
        "import tensorflow as tf"
      ],
      "execution_count": 3,
      "outputs": [
        {
          "output_type": "stream",
          "text": [
            "TensorFlow 1.x selected.\n"
          ],
          "name": "stdout"
        }
      ]
    },
    {
      "cell_type": "code",
      "metadata": {
        "id": "dRDn7E5QUko0",
        "colab_type": "code",
        "outputId": "4fe59cfe-1106-48ff-fc4c-26e1a84a9ec8",
        "colab": {
          "base_uri": "https://localhost:8080/",
          "height": 217
        }
      },
      "source": [
        "dir = \"masks\"\n",
        "temp = os.path.join(str(dir))\n",
        "\n",
        "boxes = np.zeros((700, 4))\n",
        "cnt = 0\n",
        "\n",
        "for temp_dir_name in sorted(os.listdir(temp)):\n",
        "\n",
        "    print(temp_dir_name)\n",
        "    tmp = os.path.join(str(dir) + '/' + str(temp_dir_name))\n",
        "\n",
        "    for fil in sorted(os.listdir(tmp)):\n",
        "      f = open(str(dir) + '/' + str(temp_dir_name) + '/' + str(fil), \"r\")\n",
        "      \n",
        "      contents = f.read()\n",
        "\n",
        "      w1 = int(contents.split()[0])\n",
        "      h1 = int(contents.split()[1])\n",
        "      w2 = int(contents.split()[2]) + w1\n",
        "      h2 = int(contents.split()[3]) + h1\n",
        "\n",
        "      boxes[cnt][0] = w1\n",
        "      boxes[cnt][1] = h1\n",
        "      boxes[cnt][2] = w2\n",
        "      boxes[cnt][3] = h2\n",
        "\n",
        "      cnt += 1\n",
        "\n",
        "print(type(boxes))"
      ],
      "execution_count": 4,
      "outputs": [
        {
          "output_type": "stream",
          "text": [
            "adidas0\n",
            "chanel\n",
            "gucci\n",
            "hh\n",
            "lacoste\n",
            "mk\n",
            "nike\n",
            "prada\n",
            "puma\n",
            "supreme\n",
            "<class 'numpy.ndarray'>\n"
          ],
          "name": "stdout"
        }
      ]
    },
    {
      "cell_type": "code",
      "metadata": {
        "id": "j7QWvXnn-ZCe",
        "colab_type": "code",
        "outputId": "0324594c-6490-499d-8c93-c6274e095542",
        "colab": {
          "base_uri": "https://localhost:8080/",
          "height": 145
        }
      },
      "source": [
        "print(boxes)\n",
        "boxes = np.reshape(boxes, (700, 4))\n",
        "np.save('boxes', boxes)"
      ],
      "execution_count": 5,
      "outputs": [
        {
          "output_type": "stream",
          "text": [
            "[[567. 408. 730. 563.]\n",
            " [616.   7. 774. 118.]\n",
            " [283.  69. 369. 127.]\n",
            " ...\n",
            " [159. 226. 425. 339.]\n",
            " [293. 163. 368. 189.]\n",
            " [153. 160. 466. 267.]]\n"
          ],
          "name": "stdout"
        }
      ]
    },
    {
      "cell_type": "code",
      "metadata": {
        "id": "nYnRdfsL_7dB",
        "colab_type": "code",
        "outputId": "86ef63d7-391d-4cd8-96ac-19235e84488c",
        "colab": {
          "base_uri": "https://localhost:8080/",
          "height": 35
        }
      },
      "source": [
        "print(boxes.shape)"
      ],
      "execution_count": 6,
      "outputs": [
        {
          "output_type": "stream",
          "text": [
            "(700, 4)\n"
          ],
          "name": "stdout"
        }
      ]
    },
    {
      "cell_type": "code",
      "metadata": {
        "id": "9Dpwqp4RNtFT",
        "colab_type": "code",
        "outputId": "b9abd8a1-266a-43f6-bc63-611484c7c758",
        "colab": {
          "base_uri": "https://localhost:8080/",
          "height": 287
        }
      },
      "source": [
        "#This cell is meant to experiment with an image to try out different ways to augment it...\n",
        "#After seeing the results on a few images, the dataset was augmented by creating 13 augmented images from every original image...\n",
        "\"\"\"\n",
        "  image[: , :, 2] = 255 (or 0) OR image[:, :, 1] = 255 etc...\n",
        "\"\"\"\n",
        "\n",
        "import cv2\n",
        "import matplotlib.pyplot as plt\n",
        "image = cv2.imread(\"jpg/adidas0/adidas1.jpg\")\n",
        "\n",
        "\n",
        "fig, axis = plt.subplots(5, 3)\n",
        "\n",
        "box = boxes[0]\n",
        "box = box.reshape((1,4))\n",
        "w1 = int(box[0][0])\n",
        "h1 = int(box[0][1])\n",
        "w2 = int(box[0][2])\n",
        "h2 = int(box[0][3])\n",
        "\n",
        "tmpImg = np.zeros((h2 - h1, w2 - w1, 3))\n",
        "\n",
        "tmpImg = image[h1:h2, w1:w2, :]\n",
        "\n",
        "image = cv2.resize(tmpImg, (300, 300), interpolation = cv2.INTER_AREA)\n",
        "image = image / 255.0\n",
        "\n",
        "# print(type(image))\n",
        "\n",
        "image = image.tolist()\n",
        "\n",
        "# print(im)\n",
        "\n",
        "# plt.imshow(im)\n",
        "\n",
        "# axis[0, 0].imshow(image)\n",
        "\n",
        "# tmpImg = np.zeros((6, 300, 300, 3))\n",
        "\n",
        "# for i in range(6):\n",
        "#   for j in range(300):\n",
        "#     for k in range(300):\n",
        "#       for l in range(3):\n",
        "#         x = int(image[j][k][l])\n",
        "#         tmpImg[i, j, k, l] = float(x)\n",
        "\n",
        "axis[0,0].imshow(image)\n",
        "\n",
        "tmpImg = np.array(image)\n",
        "axis[0,1].imshow(tmpImg)\n",
        "\n",
        "# print(tmpImg)\n",
        "\n",
        "tmpImg = np.array(image)\n",
        "tmpImg = 1 - tmpImg\n",
        "axis[0,2].imshow(tmpImg)\n",
        "\n",
        "\n",
        "tmpImg = np.array(image)\n",
        "tmpImg[:, :, 0] = 1\n",
        "axis[1,0].imshow(tmpImg)\n",
        "\n",
        "tmpImg = np.array(image)\n",
        "tmpImg[:,:,1] = 1\n",
        "axis[1,1].imshow(tmpImg)\n",
        "\n",
        "tmpImg = np.array(image)\n",
        "tmpImg[:,:,2] = 1\n",
        "axis[1,2].imshow(tmpImg)\n",
        "\n",
        "tmpImg = np.array(image)\n",
        "tmpImg[:,:,0] = 1\n",
        "tmpImg[:,:,1] = 1\n",
        "axis[2,0].imshow(tmpImg)\n",
        "\n",
        "tmpImg = np.array(image)\n",
        "tmpImg[:,:,1] = 1\n",
        "tmpImg[:,:,2] = 1\n",
        "axis[2,1].imshow(tmpImg)\n",
        "\n",
        "tmpImg = np.array(image)\n",
        "tmpImg[:,:,2] = 1\n",
        "tmpImg[:,:,0] = 1\n",
        "axis[2,2].imshow(tmpImg)\n",
        "\n",
        "tmpImg = np.array(image)\n",
        "tmpImg[:,:,0] = 0\n",
        "axis[3,0].imshow(tmpImg)\n",
        "\n",
        "tmpImg = np.array(image)\n",
        "tmpImg[:,:,1] = 0\n",
        "axis[3,1].imshow(tmpImg)\n",
        "\n",
        "tmpImg = np.array(image)\n",
        "tmpImg[:,:,2] = 0\n",
        "axis[3,2].imshow(tmpImg)\n",
        "\n",
        "tmpImg = np.array(image)\n",
        "tmpImg[:,:,0] = 0\n",
        "tmpImg[:,:,1] = 0\n",
        "axis[4,0].imshow(tmpImg)\n",
        "\n",
        "tmpImg = np.array(image)\n",
        "tmpImg[:,:,1] = 0\n",
        "tmpImg[:,:,2] = 0\n",
        "axis[4,1].imshow(tmpImg)\n",
        "\n",
        "tmpImg = np.array(image)\n",
        "tmpImg[:,:,2] = 0\n",
        "tmpImg[:,:,0] = 0\n",
        "axis[4,2].imshow(tmpImg)\n",
        "\n",
        "# axis[0,1].imshow(image)"
      ],
      "execution_count": 7,
      "outputs": [
        {
          "output_type": "execute_result",
          "data": {
            "text/plain": [
              "<matplotlib.image.AxesImage at 0x7f4e629e6390>"
            ]
          },
          "metadata": {
            "tags": []
          },
          "execution_count": 7
        },
        {
          "output_type": "display_data",
          "data": {
            "image/png": "[encoded data removed]",
            "text/plain": [
              "<Figure size 432x288 with 15 Axes>"
            ]
          },
          "metadata": {
            "tags": []
          }
        }
      ]
    },
    {
      "cell_type": "code",
      "metadata": {
        "id": "9CphBrBkr6tu",
        "colab_type": "code",
        "outputId": "08bee4ef-6b3a-4b45-8c71-ffedb79bfe20",
        "colab": {
          "base_uri": "https://localhost:8080/",
          "height": 1000
        }
      },
      "source": [
        "import cv2\n",
        "import matplotlib.pyplot as plt\n",
        "import numpy as np\n",
        "\n",
        "labels = np.zeros(9800, dtype = 'uint8')\n",
        "images = np.zeros((9800,300,300,3), dtype = 'uint8')\n",
        "cnt = 0\n",
        "\n",
        "dir = \"jpg\"\n",
        "temp = os.path.join(str(dir))\n",
        "\n",
        "for temp_dir_name in sorted(os.listdir(temp)):\n",
        "\n",
        "    print(temp_dir_name)\n",
        "    tmp = os.path.join(str(dir) + '/' + str(temp_dir_name))\n",
        "\n",
        "    for image in sorted(os.listdir(tmp)):\n",
        "      if image.endswith(\".jpg\") or image.endswith(\".png\"):\n",
        "        im = cv2.imread(str(dir) + '/' + str(temp_dir_name) + '/' + str(image))\n",
        "\n",
        "        box = boxes[cnt//14]\n",
        "        box = box.reshape((1,4))\n",
        "        w1 = int(box[0][0])\n",
        "        h1 = int(box[0][1])\n",
        "        w2 = int(box[0][2])\n",
        "        h2 = int(box[0][3])\n",
        "\n",
        "        tmpImg = np.zeros((h2 - h1, w2 - w1, 3))\n",
        "\n",
        "        tmpImg = im[h1:h2, w1:w2, :]\n",
        "\n",
        "        tmpImg = cv2.resize(tmpImg, (300, 300), interpolation = cv2.INTER_AREA)\n",
        "        # tmpImg = tmpImg / 255.0\n",
        "        tmpImg = tmpImg.tolist()\n",
        "\n",
        "        im = np.array(tmpImg)\n",
        "        images[cnt] = im\n",
        "        cnt = cnt + 1\n",
        "\n",
        "        im = 255.0 - im\n",
        "        images[cnt] = im\n",
        "        cnt = cnt + 1\n",
        "\n",
        "        im = np.array(tmpImg)\n",
        "        im[:, :, 0] = 255.0\n",
        "        images[cnt] = im\n",
        "        cnt = cnt + 1\n",
        "\n",
        "        im = np.array(tmpImg)\n",
        "        im[:, :, 1] = 255.0\n",
        "        images[cnt] = im\n",
        "        cnt = cnt + 1\n",
        "\n",
        "        im = np.array(tmpImg)\n",
        "        im[:, :, 2] = 255.0\n",
        "        images[cnt] = im\n",
        "        cnt = cnt + 1\n",
        "\n",
        "        im = np.array(tmpImg)\n",
        "        im[:, :, 0] = 255.0\n",
        "        im[:, :, 1] = 255.0\n",
        "        images[cnt] = im\n",
        "        cnt = cnt + 1\n",
        "\n",
        "        im = np.array(tmpImg)\n",
        "        im[:, :, 1] = 255.0\n",
        "        im[:, :, 2] = 255.0\n",
        "        images[cnt] = im\n",
        "        cnt = cnt + 1\n",
        "\n",
        "        im = np.array(tmpImg)\n",
        "        im[:, :, 2] = 255.0\n",
        "        im[:, :, 0] = 255.0\n",
        "        images[cnt] = im\n",
        "        cnt = cnt + 1\n",
        "\n",
        "        im = np.array(tmpImg)\n",
        "        im[:, :, 0] = 0\n",
        "        images[cnt] = im\n",
        "        cnt = cnt + 1\n",
        "\n",
        "        im = np.array(tmpImg)\n",
        "        im[:, :, 1] = 0\n",
        "        images[cnt] = im\n",
        "        cnt = cnt + 1\n",
        "\n",
        "        im = np.array(tmpImg)\n",
        "        im[:, :, 2] = 0\n",
        "        images[cnt] = im\n",
        "        cnt = cnt + 1\n",
        "\n",
        "        im = np.array(tmpImg)\n",
        "        im[:, :, 0] = 0\n",
        "        im[:, :, 1] = 0\n",
        "        images[cnt] = im\n",
        "        cnt = cnt + 1\n",
        "\n",
        "        im = np.array(tmpImg)\n",
        "        im[:, :, 1] = 0\n",
        "        im[:, :, 2] = 0\n",
        "        images[cnt] = im\n",
        "        cnt = cnt + 1\n",
        "\n",
        "        im = np.array(tmpImg)\n",
        "        im[:, :, 2] = 0\n",
        "        im[:, :, 0] = 0\n",
        "        images[cnt] = im\n",
        "        cnt = cnt + 1\n",
        "\n",
        "        if(cnt % 196 == 0):\n",
        "          print(cnt)\n",
        "\n",
        "print(cnt)"
      ],
      "execution_count": 11,
      "outputs": [
        {
          "output_type": "stream",
          "text": [
            "adidas0\n",
            "196\n",
            "392\n",
            "588\n",
            "784\n",
            "980\n",
            "chanel\n",
            "1176\n",
            "1372\n",
            "1568\n",
            "1764\n",
            "1960\n",
            "gucci\n",
            "2156\n",
            "2352\n",
            "2548\n",
            "2744\n",
            "2940\n",
            "hh\n",
            "3136\n",
            "3332\n",
            "3528\n",
            "3724\n",
            "3920\n",
            "lacoste\n",
            "4116\n",
            "4312\n",
            "4508\n",
            "4704\n",
            "4900\n",
            "mk\n",
            "5096\n",
            "5292\n",
            "5488\n",
            "5684\n",
            "5880\n",
            "nike\n",
            "6076\n",
            "6272\n",
            "6468\n",
            "6664\n",
            "6860\n",
            "prada\n",
            "7056\n",
            "7252\n",
            "7448\n",
            "7644\n",
            "7840\n",
            "puma\n",
            "8036\n",
            "8232\n",
            "8428\n",
            "8624\n",
            "8820\n",
            "supreme\n",
            "9016\n",
            "9212\n",
            "9408\n",
            "9604\n",
            "9800\n",
            "9800\n"
          ],
          "name": "stdout"
        }
      ]
    },
    {
      "cell_type": "code",
      "metadata": {
        "id": "9NunT5pBVtNK",
        "colab_type": "code",
        "colab": {}
      },
      "source": [
        "target_labels = np.zeros((9800,10))\n",
        "lbl = -1\n",
        "for i in range(0,9800):\n",
        "  if i%980 == 0:\n",
        "    lbl = lbl + 1\n",
        "  target_labels[i][lbl] = 1\n",
        "  "
      ],
      "execution_count": 0,
      "outputs": []
    },
    {
      "cell_type": "code",
      "metadata": {
        "id": "NIeX-YL9ugSn",
        "colab_type": "code",
        "colab": {}
      },
      "source": [
        "from sklearn.utils import shuffle\n",
        "# final_images, final_labels = shuffle(images, target_labels)\n",
        "final_images, final_labels = images, target_labels"
      ],
      "execution_count": 0,
      "outputs": []
    },
    {
      "cell_type": "code",
      "metadata": {
        "id": "8Up15yeixp1q",
        "colab_type": "code",
        "colab": {}
      },
      "source": [
        "from sklearn.model_selection import train_test_split\n",
        "X_train, X_test, Y_train, Y_test = train_test_split(final_images, final_labels, test_size = 0.2, shuffle = True)\n",
        "X_dev, X_test, Y_dev, Y_test = train_test_split(X_test, Y_test, test_size = 0.5, shuffle = True)"
      ],
      "execution_count": 0,
      "outputs": []
    },
    {
      "cell_type": "code",
      "metadata": {
        "id": "86L0g7eWb4EV",
        "colab_type": "code",
        "outputId": "dbf42a49-959a-4789-b93f-e55895c410a3",
        "colab": {
          "base_uri": "https://localhost:8080/",
          "height": 599
        }
      },
      "source": [
        "import keras\n",
        "from keras.layers import Conv2D, MaxPooling2D, GlobalAveragePooling2D, Dropout, Dense\n",
        "from keras.models import Sequential\n",
        "\n",
        "cnn_model_1 = Sequential()\n",
        "\n",
        "cnn_model_1.add(Conv2D (kernel_size = (3,3), filters = 16, input_shape = X_train.shape[1:], activation='relu'))\n",
        "cnn_model_1.add(MaxPooling2D(pool_size = 2))\n",
        "\n",
        "cnn_model_1.add(Conv2D(kernel_size = (3,3), filters = 32, activation='relu'))\n",
        "cnn_model_1.add(Dropout(0.4))\n",
        "cnn_model_1.add(MaxPooling2D(pool_size = 2))\n",
        " \n",
        "cnn_model_1.add(Conv2D(kernel_size = (5,5), filters = 64, activation='relu'))\n",
        "cnn_model_1.add(Dropout(0.2))\n",
        "cnn_model_1.add(MaxPooling2D(pool_size = 2))\n",
        "\n",
        "cnn_model_1.add(Conv2D(kernel_size = (5, 5), filters = 128, activation='relu'))\n",
        "# cnn_model.add(Dropout(0.1))\n",
        "cnn_model_1.add(MaxPooling2D(pool_size = 2))\n",
        "\n",
        "cnn_model_1.add(GlobalAveragePooling2D())\n",
        "\n",
        "cnn_model_1.add(Dense(10, activation = 'softmax'))\n",
        "\n",
        "cnn_model_1.summary()"
      ],
      "execution_count": 25,
      "outputs": [
        {
          "output_type": "stream",
          "text": [
            "Model: \"sequential_2\"\n",
            "_________________________________________________________________\n",
            "Layer (type)                 Output Shape              Param #   \n",
            "=================================================================\n",
            "conv2d_5 (Conv2D)            (None, 298, 298, 16)      448       \n",
            "_________________________________________________________________\n",
            "max_pooling2d_5 (MaxPooling2 (None, 149, 149, 16)      0         \n",
            "_________________________________________________________________\n",
            "conv2d_6 (Conv2D)            (None, 147, 147, 32)      4640      \n",
            "_________________________________________________________________\n",
            "dropout_3 (Dropout)          (None, 147, 147, 32)      0         \n",
            "_________________________________________________________________\n",
            "max_pooling2d_6 (MaxPooling2 (None, 73, 73, 32)        0         \n",
            "_________________________________________________________________\n",
            "conv2d_7 (Conv2D)            (None, 69, 69, 64)        51264     \n",
            "_________________________________________________________________\n",
            "dropout_4 (Dropout)          (None, 69, 69, 64)        0         \n",
            "_________________________________________________________________\n",
            "max_pooling2d_7 (MaxPooling2 (None, 34, 34, 64)        0         \n",
            "_________________________________________________________________\n",
            "conv2d_8 (Conv2D)            (None, 30, 30, 128)       204928    \n",
            "_________________________________________________________________\n",
            "max_pooling2d_8 (MaxPooling2 (None, 15, 15, 128)       0         \n",
            "_________________________________________________________________\n",
            "global_average_pooling2d_2 ( (None, 128)               0         \n",
            "_________________________________________________________________\n",
            "dense_2 (Dense)              (None, 10)                1290      \n",
            "=================================================================\n",
            "Total params: 262,570\n",
            "Trainable params: 262,570\n",
            "Non-trainable params: 0\n",
            "_________________________________________________________________\n"
          ],
          "name": "stdout"
        }
      ]
    },
    {
      "cell_type": "code",
      "metadata": {
        "id": "mFPUDkVDcA6b",
        "colab_type": "code",
        "colab": {}
      },
      "source": [
        "#Compile the model \n",
        "from keras.optimizers import adam\n",
        "\n",
        "myopt = adam( lr = 0.0001, decay = 1e-7)\n",
        "\n",
        "cnn_model_1.compile(optimizer = myopt, \n",
        "                  loss='categorical_crossentropy',\n",
        "                  metrics=['accuracy'])"
      ],
      "execution_count": 0,
      "outputs": []
    },
    {
      "cell_type": "code",
      "metadata": {
        "id": "YvRbEVjIcFHb",
        "colab_type": "code",
        "outputId": "98e794ac-f648-4fa1-bf93-8a80551c95b6",
        "colab": {
          "base_uri": "https://localhost:8080/",
          "height": 381
        }
      },
      "source": [
        "H = cnn_model_1.fit(X_train, Y_train, epochs = 10, verbose=1, batch_size = 256) #Train accuracy peaked at 0.99 after 200+ epochs with batch size of 256"
      ],
      "execution_count": 62,
      "outputs": [
        {
          "output_type": "stream",
          "text": [
            "Epoch 1/10\n",
            "7840/7840 [==============================] - 11s 1ms/step - loss: 0.0515 - acc: 0.9881\n",
            "Epoch 2/10\n",
            "7840/7840 [==============================] - 11s 1ms/step - loss: 0.0546 - acc: 0.9855\n",
            "Epoch 3/10\n",
            "7840/7840 [==============================] - 11s 1ms/step - loss: 0.0443 - acc: 0.9903\n",
            "Epoch 4/10\n",
            "7840/7840 [==============================] - 11s 1ms/step - loss: 0.0429 - acc: 0.9920\n",
            "Epoch 5/10\n",
            "7840/7840 [==============================] - 11s 1ms/step - loss: 0.0432 - acc: 0.9903\n",
            "Epoch 6/10\n",
            "7840/7840 [==============================] - 11s 1ms/step - loss: 0.0474 - acc: 0.9888\n",
            "Epoch 7/10\n",
            "7840/7840 [==============================] - 11s 1ms/step - loss: 0.0443 - acc: 0.9907\n",
            "Epoch 8/10\n",
            "7840/7840 [==============================] - 11s 1ms/step - loss: 0.0393 - acc: 0.9922\n",
            "Epoch 9/10\n",
            "7840/7840 [==============================] - 11s 1ms/step - loss: 0.0408 - acc: 0.9907\n",
            "Epoch 10/10\n",
            "7840/7840 [==============================] - 11s 1ms/step - loss: 0.0444 - acc: 0.9906\n"
          ],
          "name": "stdout"
        }
      ]
    },
    {
      "cell_type": "code",
      "metadata": {
        "id": "NLTajIn3dF18",
        "colab_type": "code",
        "outputId": "1e2a4ce4-6736-48ef-b3bb-eeebb205a322",
        "colab": {
          "base_uri": "https://localhost:8080/",
          "height": 54
        }
      },
      "source": [
        "cnn_model_1.evaluate(X_dev,Y_dev, verbose = 1)  #peaked at 0.95 when training accuracy was 0.98 (around 150 epochs)"
      ],
      "execution_count": 63,
      "outputs": [
        {
          "output_type": "stream",
          "text": [
            "980/980 [==============================] - 1s 650us/step\n"
          ],
          "name": "stdout"
        },
        {
          "output_type": "execute_result",
          "data": {
            "text/plain": [
              "[0.21486562460052724, 0.9479591834301851]"
            ]
          },
          "metadata": {
            "tags": []
          },
          "execution_count": 63
        }
      ]
    },
    {
      "cell_type": "code",
      "metadata": {
        "id": "OB6OeJe9_eQW",
        "colab_type": "code",
        "colab": {
          "base_uri": "https://localhost:8080/",
          "height": 54
        },
        "outputId": "99ad20d4-fb0a-456e-ed3c-738fa9ffcdfb"
      },
      "source": [
        "cnn_model_1.evaluate(X_test, Y_test)  #peaked at 0.954 when training accuracy was 0.99"
      ],
      "execution_count": 64,
      "outputs": [
        {
          "output_type": "stream",
          "text": [
            "980/980 [==============================] - 1s 645us/step\n"
          ],
          "name": "stdout"
        },
        {
          "output_type": "execute_result",
          "data": {
            "text/plain": [
              "[0.2093679060133136, 0.954081632409777]"
            ]
          },
          "metadata": {
            "tags": []
          },
          "execution_count": 64
        }
      ]
    },
    {
      "cell_type": "markdown",
      "metadata": {
        "id": "uD84KPCulKeI",
        "colab_type": "text"
      },
      "source": [
        "To better understand the errors, work with original nonshuffled images array of 9800 images. \n",
        "Check for each logo individually to see how many original and synthesized images were misclassified...\n",
        "\n",
        "Start with adidas..."
      ]
    },
    {
      "cell_type": "code",
      "metadata": {
        "id": "VX2-7M1MKglj",
        "colab_type": "code",
        "colab": {
          "base_uri": "https://localhost:8080/",
          "height": 54
        },
        "outputId": "681f3310-e17b-4f19-f974-5207183ecf80"
      },
      "source": [
        "adi = cnn_model_1.predict(images[0:980])\n",
        "# print(adi.size) \n",
        "# print(adi)\n",
        "# for i in range(adi.size):\n",
        "\n",
        "adi = adi.tolist()\n",
        "\n",
        "listA = list()\n",
        "\n",
        "for a in adi:\n",
        "  \n",
        "  # print(len(a))\n",
        "  # print(type(a))\n",
        "  maxi = np.max(np.array(a))\n",
        "  list1 = list()\n",
        "  \n",
        "  for b in a:\n",
        "    if b == maxi:\n",
        "      list1.append(True)\n",
        "    else:\n",
        "      list1.append(False)\n",
        "\n",
        "  listA.append(list1)  \n",
        "\n",
        "# print(listA)\n",
        "\n",
        "cnt, cnt1 = 0, 0\n",
        "\n",
        "# fig, axis = plt.subplots(5, 4)\n",
        "\n",
        "def convert(a, b, c):\n",
        "  x = int(a / c)\n",
        "  y = int(a % c) \n",
        "\n",
        "  return x,y \n",
        "\n",
        "# for i in range(20):\n",
        "#   print(convert(i, 5, 4))\n",
        "\n",
        "for i in range(len(listA)):\n",
        "  lis = listA[i]\n",
        "  if(lis[0] != True):\n",
        "    # x,y = convert(cnt, 5, 4)\n",
        "    # axis[int(x), int(y)].imshow(images[i])\n",
        "    # cnt += 1\n",
        "    cnt1 += 1\n",
        "    if(i%14 == 0):\n",
        "      print(i)\n",
        "      plt.imshow(i)\n",
        "      cnt += 1\n",
        "\n",
        "print(\"Number of original images misclassified: \" + str(cnt)) \n",
        "print(\"Number of total images misclassified: \" + str(cnt1))"
      ],
      "execution_count": 213,
      "outputs": [
        {
          "output_type": "stream",
          "text": [
            "Number of original images misclassified: 0\n",
            "Number of total images misclassified: 20\n"
          ],
          "name": "stdout"
        }
      ]
    },
    {
      "cell_type": "code",
      "metadata": {
        "id": "m38cA00RYCEW",
        "colab_type": "code",
        "colab": {
          "base_uri": "https://localhost:8080/",
          "height": 324
        },
        "outputId": "94ce2ad7-f38a-4fe6-c7b6-9dc9b2c053de"
      },
      "source": [
        "cha = cnn_model_1.predict(images[980:1960])\n",
        "# print(adi.size) \n",
        "# print(adi)\n",
        "# for i in range(adi.size):\n",
        "\n",
        "cha = cha.tolist()\n",
        "\n",
        "listC = list()\n",
        "\n",
        "for c in cha:\n",
        "  \n",
        "  # print(len(a))\n",
        "  # print(type(a))\n",
        "  maxi = np.max(np.array(c))\n",
        "  list1 = list()\n",
        "  \n",
        "  for b in c:\n",
        "    if b == maxi:\n",
        "      list1.append(True)\n",
        "    else:\n",
        "      list1.append(False)\n",
        "\n",
        "  listC.append(list1)  \n",
        "\n",
        "# print(listA)\n",
        "\n",
        "cnt, cnt1 = 0, 0\n",
        "\n",
        "# fig, axis = plt.subplots(8, 5)\n",
        "\n",
        "def convert(a, b, c):\n",
        "  x = int(a / c)\n",
        "  y = int(a % c) \n",
        "\n",
        "  return x,y \n",
        "\n",
        "# for i in range(20):\n",
        "#   print(convert(i, 5, 4))\n",
        "\n",
        "for i in range(len(listC)):\n",
        "  lis = listC[i]\n",
        "  if(lis[1] != True):\n",
        "    # x,y = convert(cnt, 8, 5)\n",
        "    # axis[int(x), int(y)].imshow(images[980 + i])\n",
        "    # print(980 + i)\n",
        "    cnt1 += 1\n",
        "    if((980+i)%14 == 0):\n",
        "      cnt += 1\n",
        "      print(i + 980)\n",
        "      plt.imshow(images[980 + i])\n",
        "\n",
        "print(\"Number of original images misclassified: \" + str(cnt)) \n",
        "print(\"Number of total images misclassified: \" + str(cnt1))"
      ],
      "execution_count": 214,
      "outputs": [
        {
          "output_type": "stream",
          "text": [
            "1414\n",
            "Number of original images misclassified: 1\n",
            "Number of total images misclassified: 37\n"
          ],
          "name": "stdout"
        },
        {
          "output_type": "display_data",
          "data": {
            "image/png": "[encoded data removed]",
            "text/plain": [
              "<Figure size 432x288 with 1 Axes>"
            ]
          },
          "metadata": {
            "tags": []
          }
        }
      ]
    },
    {
      "cell_type": "code",
      "metadata": {
        "id": "Gmfh2cm4Mbqw",
        "colab_type": "code",
        "colab": {
          "base_uri": "https://localhost:8080/",
          "height": 54
        },
        "outputId": "b465cd25-cd87-4bd7-be57-923dee667dc7"
      },
      "source": [
        "gucci = cnn_model_1.predict(images[1960:2940])\n",
        "# print(adi.size) \n",
        "# print(adi)\n",
        "# for i in range(adi.size):\n",
        "\n",
        "g = gucci.tolist()\n",
        "\n",
        "listG = list()\n",
        "\n",
        "for a in g:\n",
        "  \n",
        "  # print(len(a))\n",
        "  # print(type(a))\n",
        "  maxi = np.max(np.array(a))\n",
        "  list1 = list()\n",
        "  \n",
        "  for b in a:\n",
        "    if b == maxi:\n",
        "      list1.append(True)\n",
        "    else:\n",
        "      list1.append(False)\n",
        "\n",
        "  listG.append(list1)  \n",
        "\n",
        "# print(listA)\n",
        "\n",
        "cnt, cnt1 = 0, 0\n",
        "\n",
        "# fig, axis = plt.subplots(5, 3)\n",
        "\n",
        "def convert(a, b, c):\n",
        "  x = int(a / c)\n",
        "  y = int(a % c) \n",
        "\n",
        "  return x,y \n",
        "\n",
        "# for i in range(20):\n",
        "#   print(convert(i, 5, 4))\n",
        "\n",
        "for i in range(len(listG)):\n",
        "  lis = listG[i]\n",
        "  if(lis[2] != True):\n",
        "    # x,y = convert(cnt, 5, 3)\n",
        "    # axis[int(x), int(y)].imshow(images[1960 + i])\n",
        "    # print(1960 + i)\n",
        "    cnt1 += 1\n",
        "    if((1960 + i)%14 == 0):\n",
        "      cnt += 1\n",
        "\n",
        "print(\"Number of original images misclassified: \" + str(cnt)) \n",
        "print(\"Number of total images misclassified: \" + str(cnt1))"
      ],
      "execution_count": 217,
      "outputs": [
        {
          "output_type": "stream",
          "text": [
            "Number of original images misclassified: 0\n",
            "Number of total images misclassified: 15\n"
          ],
          "name": "stdout"
        }
      ]
    },
    {
      "cell_type": "code",
      "metadata": {
        "id": "MroWIaMsdq-v",
        "colab_type": "code",
        "colab": {
          "base_uri": "https://localhost:8080/",
          "height": 54
        },
        "outputId": "489a78d8-9c33-4f0f-cec8-b794113b5194"
      },
      "source": [
        "hh = cnn_model_1.predict(images[2940:3920])\n",
        "# print(adi.size) \n",
        "# print(adi)\n",
        "# for i in range(adi.size):\n",
        "\n",
        "hh = hh.tolist()\n",
        "\n",
        "listH = list()\n",
        "\n",
        "for c in hh:\n",
        "  \n",
        "  # print(len(a))\n",
        "  # print(type(a))\n",
        "  maxi = np.max(np.array(c))\n",
        "  list1 = list()\n",
        "  \n",
        "  for b in c:\n",
        "    if b == maxi:\n",
        "      list1.append(True)\n",
        "    else:\n",
        "      list1.append(False)\n",
        "\n",
        "  listH.append(list1)  \n",
        "\n",
        "# print(listA)\n",
        "\n",
        "cnt, cnt1 = 0, 0\n",
        "\n",
        "# fig, axis = plt.subplots(8, 5)\n",
        "\n",
        "def convert(a, b, c):\n",
        "  x = int(a / c)\n",
        "  y = int(a % c) \n",
        "\n",
        "  return x,y \n",
        "\n",
        "# for i in range(20):\n",
        "#   print(convert(i, 5, 4))\n",
        "\n",
        "for i in range(len(listC)):\n",
        "  lis = listH[i]\n",
        "  if(lis[3] != True):\n",
        "    # x,y = convert(cnt, 8, 5)\n",
        "    # axis[int(x), int(y)].imshow(images[980 + i])\n",
        "    # print(980 + i)\n",
        "    cnt1 += 1\n",
        "    if((2940 + i)%14 == 0):\n",
        "      cnt += 1\n",
        "      print(i + 2940)\n",
        "      plt.imshow(images[2940 + i])\n",
        "\n",
        "print(\"Number of original images misclassified: \" + str(cnt)) \n",
        "print(\"Number of total images misclassified: \" + str(cnt1))"
      ],
      "execution_count": 218,
      "outputs": [
        {
          "output_type": "stream",
          "text": [
            "Number of original images misclassified: 0\n",
            "Number of total images misclassified: 10\n"
          ],
          "name": "stdout"
        }
      ]
    },
    {
      "cell_type": "code",
      "metadata": {
        "id": "vTZ60_v5eZWw",
        "colab_type": "code",
        "colab": {
          "base_uri": "https://localhost:8080/",
          "height": 54
        },
        "outputId": "b333b044-1ec0-4430-95a1-a92701d7ecfc"
      },
      "source": [
        "lac = cnn_model_1.predict(images[3920:4900])\n",
        "# print(adi.size) \n",
        "# print(adi)\n",
        "# for i in range(adi.size):\n",
        "\n",
        "lac = lac.tolist()\n",
        "\n",
        "listL = list()\n",
        "\n",
        "for c in lac:\n",
        "  \n",
        "  # print(len(a))\n",
        "  # print(type(a))\n",
        "  maxi = np.max(np.array(c))\n",
        "  list1 = list()\n",
        "  \n",
        "  for b in c:\n",
        "    if b == maxi:\n",
        "      list1.append(True)\n",
        "    else:\n",
        "      list1.append(False)\n",
        "\n",
        "  listL.append(list1)  \n",
        "\n",
        "# print(listA)\n",
        "\n",
        "cnt, cnt1 = 0, 0\n",
        "\n",
        "# fig, axis = plt.subplots(8, 5)\n",
        "\n",
        "def convert(a, b, c):\n",
        "  x = int(a / c)\n",
        "  y = int(a % c) \n",
        "\n",
        "  return x,y \n",
        "\n",
        "# for i in range(20):\n",
        "#   print(convert(i, 5, 4))\n",
        "\n",
        "for i in range(len(listC)):\n",
        "  lis = listL[i]\n",
        "  if(lis[4] != True):\n",
        "    # x,y = convert(cnt, 8, 5)\n",
        "    # axis[int(x), int(y)].imshow(images[980 + i])\n",
        "    # print(980 + i)\n",
        "    cnt1 += 1\n",
        "    if((3920 + i)%14 == 0):\n",
        "      cnt += 1\n",
        "      print(i + 3920)\n",
        "      plt.imshow(images[3920 + i])\n",
        "\n",
        "print(\"Number of original images misclassified: \" + str(cnt)) \n",
        "print(\"Number of total images misclassified: \" + str(cnt1))"
      ],
      "execution_count": 219,
      "outputs": [
        {
          "output_type": "stream",
          "text": [
            "Number of original images misclassified: 0\n",
            "Number of total images misclassified: 19\n"
          ],
          "name": "stdout"
        }
      ]
    },
    {
      "cell_type": "markdown",
      "metadata": {
        "id": "s73U2kzgmdAY",
        "colab_type": "text"
      },
      "source": [
        "Clearly, most of the errors are on augmented images (some of which are deliberately hard with very little contrast)\n",
        "\n",
        "Now, let's create a test set and labes using original 700 images onyl and evaluate the model..."
      ]
    },
    {
      "cell_type": "code",
      "metadata": {
        "id": "CHXxfG5ce1gh",
        "colab_type": "code",
        "colab": {
          "base_uri": "https://localhost:8080/",
          "height": 217
        },
        "outputId": "fe706b9a-48e7-409c-e6cf-32f476c4f676"
      },
      "source": [
        "img = np.zeros((700,300,300,3), dtype = 'uint8')\n",
        "cnt = 0\n",
        "\n",
        "dir = \"jpg\"\n",
        "temp = os.path.join(str(dir))\n",
        "\n",
        "for temp_dir_name in sorted(os.listdir(temp)):\n",
        "\n",
        "    print(temp_dir_name)\n",
        "    tmp = os.path.join(str(dir) + '/' + str(temp_dir_name))\n",
        "\n",
        "    for image in sorted(os.listdir(tmp)):\n",
        "      if image.endswith(\".jpg\") or image.endswith(\".png\"):\n",
        "        im = cv2.imread(str(dir) + '/' + str(temp_dir_name) + '/' + str(image))\n",
        "\n",
        "        box = boxes[cnt]\n",
        "        box = box.reshape((1,4))\n",
        "        w1 = int(box[0][0])\n",
        "        h1 = int(box[0][1])\n",
        "        w2 = int(box[0][2])\n",
        "        h2 = int(box[0][3])\n",
        "\n",
        "        tmpImg = np.zeros((h2 - h1, w2 - w1, 3))\n",
        "\n",
        "        tmpImg = im[h1:h2, w1:w2, :]\n",
        "\n",
        "        tmpImg = cv2.resize(tmpImg, (300, 300), interpolation = cv2.INTER_AREA)\n",
        "        # tmpImg = tmpImg / 255.0\n",
        "        # tmpImg = tmpImg.tolist()\n",
        "\n",
        "        # im1 = np.array(tmpImg)\n",
        "        img[cnt] = tmpImg\n",
        "        cnt = cnt + 1\n",
        "\n",
        "print(cnt)\n",
        "assert(cnt == 700)\n",
        "\n",
        "labels = np.zeros((700,10))\n",
        "lbl = -1\n",
        "for i in range(0,700):\n",
        "  if i%70 == 0:\n",
        "    lbl = lbl + 1\n",
        "  labels[i][lbl] = 1\n",
        "  "
      ],
      "execution_count": 210,
      "outputs": [
        {
          "output_type": "stream",
          "text": [
            "adidas0\n",
            "chanel\n",
            "gucci\n",
            "hh\n",
            "lacoste\n",
            "mk\n",
            "nike\n",
            "prada\n",
            "puma\n",
            "supreme\n",
            "700\n"
          ],
          "name": "stdout"
        }
      ]
    },
    {
      "cell_type": "code",
      "metadata": {
        "id": "t_FaX_u0g3vs",
        "colab_type": "code",
        "colab": {
          "base_uri": "https://localhost:8080/",
          "height": 54
        },
        "outputId": "97a22448-a1f6-4341-8183-16e1261456a5"
      },
      "source": [
        "cnn_model_1.evaluate(img, labels) #reevaluating on original imageset, we find an accuray of 99.86%, ie, only 1 misclassified image out of 700"
      ],
      "execution_count": 220,
      "outputs": [
        {
          "output_type": "stream",
          "text": [
            "700/700 [==============================] - 1s 840us/step\n"
          ],
          "name": "stdout"
        },
        {
          "output_type": "execute_result",
          "data": {
            "text/plain": [
              "[0.018480920764684144, 0.9985714285714286]"
            ]
          },
          "metadata": {
            "tags": []
          },
          "execution_count": 220
        }
      ]
    },
    {
      "cell_type": "markdown",
      "metadata": {
        "id": "HuyB5JrRmyt5",
        "colab_type": "text"
      },
      "source": [
        "Now, the accuracy on the original image data set has gone upto 99.86%! The only misclassified image was a Chanel image with very low contrast(very bright image)..."
      ]
    }
  ]
}