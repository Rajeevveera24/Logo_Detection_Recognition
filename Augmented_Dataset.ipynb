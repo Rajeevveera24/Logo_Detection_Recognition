{
  "nbformat": 4,
  "nbformat_minor": 0,
  "metadata": {
    "colab": {
      "name": "Augmented_Dataset.ipynb",
      "provenance": [],
      "collapsed_sections": []
    },
    "kernelspec": {
      "name": "python3",
      "display_name": "Python 3"
    },
    "accelerator": "GPU"
  },
  "cells": [
    {
      "cell_type": "code",
      "metadata": {
        "id": "oi-MHDZ4UE-9",
        "colab_type": "code",
        "outputId": "f197f05a-62fc-4c85-d785-f1c3ccd9ef3d",
        "colab": {
          "base_uri": "https://localhost:8080/",
          "height": 122
        }
      },
      "source": [
        "from google.colab import drive\n",
        "drive.mount('/content/drive')"
      ],
      "execution_count": 1,
      "outputs": [
        {
          "output_type": "stream",
          "text": [
            "Go to this URL in a browser: https://accounts.google.com/o/oauth2/auth?client_id=947318989803-6bn6qk8qdgf4n4g3pfee6491hc0brc4i.apps.googleusercontent.com&redirect_uri=urn%3aietf%3awg%3aoauth%3a2.0%3aoob&response_type=code&scope=email%20https%3a%2f%2fwww.googleapis.com%2fauth%2fdocs.test%20https%3a%2f%2fwww.googleapis.com%2fauth%2fdrive%20https%3a%2f%2fwww.googleapis.com%2fauth%2fdrive.photos.readonly%20https%3a%2f%2fwww.googleapis.com%2fauth%2fpeopleapi.readonly\n",
            "\n",
            "Enter your authorization code:\n",
            "··········\n",
            "Mounted at /content/drive\n"
          ],
          "name": "stdout"
        }
      ]
    },
    {
      "cell_type": "code",
      "metadata": {
        "id": "76Q5A3UEUNiN",
        "colab_type": "code",
        "outputId": "9af43ac5-1560-4dfe-ac77-526c129d1ef5",
        "colab": {
          "base_uri": "https://localhost:8080/",
          "height": 34
        }
      },
      "source": [
        "%cd drive/My\\ Drive/LogoDetection/qmul_toplogo10/"
      ],
      "execution_count": 2,
      "outputs": [
        {
          "output_type": "stream",
          "text": [
            "/content/drive/My Drive/LogoDetection/qmul_toplogo10\n"
          ],
          "name": "stdout"
        }
      ]
    },
    {
      "cell_type": "code",
      "metadata": {
        "id": "CFToW1JdUjIH",
        "colab_type": "code",
        "outputId": "8c149f4a-97d0-4622-9d5b-b9682a8eebab",
        "colab": {
          "base_uri": "https://localhost:8080/",
          "height": 34
        }
      },
      "source": [
        "import os\n",
        "import numpy as np\n",
        "%tensorflow_version 1.x\n",
        "import tensorflow as tf"
      ],
      "execution_count": 3,
      "outputs": [
        {
          "output_type": "stream",
          "text": [
            "TensorFlow 1.x selected.\n"
          ],
          "name": "stdout"
        }
      ]
    },
    {
      "cell_type": "code",
      "metadata": {
        "id": "dRDn7E5QUko0",
        "colab_type": "code",
        "outputId": "fa5d8caf-a153-4567-c81d-1ebe4ff0866b",
        "colab": {
          "base_uri": "https://localhost:8080/",
          "height": 204
        }
      },
      "source": [
        "dir = \"masks\"\n",
        "temp = os.path.join(str(dir))\n",
        "\n",
        "boxes = np.zeros((700, 4))\n",
        "cnt = 0\n",
        "\n",
        "for temp_dir_name in sorted(os.listdir(temp)):\n",
        "\n",
        "    print(temp_dir_name)\n",
        "    tmp = os.path.join(str(dir) + '/' + str(temp_dir_name))\n",
        "\n",
        "    for fil in sorted(os.listdir(tmp)):\n",
        "      f = open(str(dir) + '/' + str(temp_dir_name) + '/' + str(fil), \"r\")\n",
        "      \n",
        "      contents = f.read()\n",
        "\n",
        "      w1 = int(contents.split()[0])\n",
        "      h1 = int(contents.split()[1])\n",
        "      w2 = int(contents.split()[2]) + w1\n",
        "      h2 = int(contents.split()[3]) + h1\n",
        "\n",
        "      boxes[cnt][0] = w1\n",
        "      boxes[cnt][1] = h1\n",
        "      boxes[cnt][2] = w2\n",
        "      boxes[cnt][3] = h2\n",
        "\n",
        "      cnt += 1\n",
        "\n",
        "print(type(boxes))"
      ],
      "execution_count": 4,
      "outputs": [
        {
          "output_type": "stream",
          "text": [
            "adidas0\n",
            "chanel\n",
            "gucci\n",
            "hh\n",
            "lacoste\n",
            "mk\n",
            "nike\n",
            "prada\n",
            "puma\n",
            "supreme\n",
            "<class 'numpy.ndarray'>\n"
          ],
          "name": "stdout"
        }
      ]
    },
    {
      "cell_type": "code",
      "metadata": {
        "id": "j7QWvXnn-ZCe",
        "colab_type": "code",
        "outputId": "cc7dea4b-c214-48e1-b254-fca529b6ecfe",
        "colab": {
          "base_uri": "https://localhost:8080/",
          "height": 136
        }
      },
      "source": [
        "print(boxes)\n",
        "boxes = np.reshape(boxes, (700, 4))\n",
        "np.save('boxes', boxes)"
      ],
      "execution_count": 5,
      "outputs": [
        {
          "output_type": "stream",
          "text": [
            "[[567. 408. 730. 563.]\n",
            " [616.   7. 774. 118.]\n",
            " [283.  69. 369. 127.]\n",
            " ...\n",
            " [159. 226. 425. 339.]\n",
            " [293. 163. 368. 189.]\n",
            " [153. 160. 466. 267.]]\n"
          ],
          "name": "stdout"
        }
      ]
    },
    {
      "cell_type": "code",
      "metadata": {
        "id": "nYnRdfsL_7dB",
        "colab_type": "code",
        "outputId": "34c88715-be70-4e98-cfc0-4a7648fa764b",
        "colab": {
          "base_uri": "https://localhost:8080/",
          "height": 34
        }
      },
      "source": [
        "print(boxes.shape)"
      ],
      "execution_count": 6,
      "outputs": [
        {
          "output_type": "stream",
          "text": [
            "(700, 4)\n"
          ],
          "name": "stdout"
        }
      ]
    },
    {
      "cell_type": "code",
      "metadata": {
        "id": "9Dpwqp4RNtFT",
        "colab_type": "code",
        "colab": {
          "base_uri": "https://localhost:8080/",
          "height": 286
        },
        "outputId": "c701d58d-f4a5-4dc3-df72-8a9fac475436"
      },
      "source": [
        "#This cell is meant to experiment with an image to try out different ways to augment it...\n",
        "#After seeing the results on a few images, the dataset was augmented by taking the negative of every image using cv2.bitwise_not(image)... \n",
        "#other modifications can include the following...\n",
        "\"\"\"\n",
        "  image[: , :, 2] = 255 (or 0) OR image[:, :, 1] = 255 etc...\n",
        "\"\"\"\n",
        "\n",
        "import cv2\n",
        "import matplotlib.pyplot as plt\n",
        "image = cv2.imread(\"jpg/adidas0/adidas13.jpg\")\n",
        "\n",
        "box = boxes[4]\n",
        "box = box.reshape((1,4))\n",
        "w1 = int(box[0][0])\n",
        "h1 = int(box[0][1])\n",
        "w2 = int(box[0][2])\n",
        "h2 = int(box[0][3])\n",
        "\n",
        "tmpImg = np.zeros((h2 - h1, w2 - w1, 3))\n",
        "\n",
        "tmpImg = image[h1:h2, w1:w2, :]\n",
        "\n",
        "image = cv2.resize(tmpImg, (300, 300), interpolation = cv2.INTER_AREA)\n",
        "# image = tmpImg\n",
        "# plt.imshow(image)\n",
        "\n",
        "# print(image.shape)\n",
        "\n",
        "image = cv2.bitwise_not(image)\n",
        "# image[ :, :, 2] = 255\n",
        "# image = image / 255.0\n",
        "\n",
        "# print(image)\n",
        "plt.imshow(image)"
      ],
      "execution_count": 73,
      "outputs": [
        {
          "output_type": "execute_result",
          "data": {
            "text/plain": [
              "<matplotlib.image.AxesImage at 0x7fa3fc725518>"
            ]
          },
          "metadata": {
            "tags": []
          },
          "execution_count": 73
        },
        {
          "output_type": "display_data",
          "data": {
            "image/png": "[encoded data removed]",
            "text/plain": [
              "<Figure size 432x288 with 1 Axes>"
            ]
          },
          "metadata": {
            "tags": []
          }
        }
      ]
    },
    {
      "cell_type": "code",
      "metadata": {
        "id": "9CphBrBkr6tu",
        "colab_type": "code",
        "outputId": "da92d959-79ca-4c4f-983a-b8b0f4a8edd2",
        "colab": {
          "base_uri": "https://localhost:8080/",
          "height": 187
        }
      },
      "source": [
        "import cv2\n",
        "import matplotlib.pyplot as plt\n",
        "import numpy as np\n",
        "\n",
        "labels = np.zeros(1400, dtype = 'uint8')\n",
        "images = np.zeros((1400,300,300,3), dtype = 'uint8')\n",
        "cnt = 0\n",
        "\n",
        "dir = \"jpg\"\n",
        "temp = os.path.join(str(dir))\n",
        "\n",
        "for temp_dir_name in sorted(os.listdir(temp)):\n",
        "\n",
        "    print(temp_dir_name)\n",
        "    tmp = os.path.join(str(dir) + '/' + str(temp_dir_name))\n",
        "\n",
        "    for image in sorted(os.listdir(tmp)):\n",
        "      if image.endswith(\".jpg\") or image.endswith(\".png\"):\n",
        "        im = cv2.imread(str(dir) + '/' + str(temp_dir_name) + '/' + str(image))\n",
        "\n",
        "        box = boxes[cnt//2]\n",
        "        box = box.reshape((1,4))\n",
        "        w1 = int(box[0][0])\n",
        "        h1 = int(box[0][1])\n",
        "        w2 = int(box[0][2])\n",
        "        h2 = int(box[0][3])\n",
        "\n",
        "        tmpImg = np.zeros((h2 - h1, w2 - w1, 3))\n",
        "\n",
        "        tmpImg = im[h1:h2, w1:w2, :]\n",
        "\n",
        "        tmpImg = cv2.resize(tmpImg, (300, 300), interpolation = cv2.INTER_AREA)\n",
        "        tmpImg1 = cv2.bitwise_not(tmpImg)\n",
        "        \n",
        "        images[cnt] = tmpImg\n",
        "        images[cnt + 1] = tmpImg1\n",
        "\n",
        "        cnt += 2"
      ],
      "execution_count": 77,
      "outputs": [
        {
          "output_type": "stream",
          "text": [
            "adidas0\n",
            "chanel\n",
            "gucci\n",
            "hh\n",
            "lacoste\n",
            "mk\n",
            "nike\n",
            "prada\n",
            "puma\n",
            "supreme\n"
          ],
          "name": "stdout"
        }
      ]
    },
    {
      "cell_type": "code",
      "metadata": {
        "id": "zva1QTmdbo_q",
        "colab_type": "code",
        "colab": {}
      },
      "source": [
        "images = images / 255.0"
      ],
      "execution_count": 0,
      "outputs": []
    },
    {
      "cell_type": "code",
      "metadata": {
        "id": "9NunT5pBVtNK",
        "colab_type": "code",
        "colab": {}
      },
      "source": [
        "target_labels = np.zeros((1400,10))\n",
        "lbl = -1\n",
        "for i in range(0,1400):\n",
        "  if i%140 == 0:\n",
        "    lbl = lbl + 1\n",
        "  target_labels[i][lbl] = 1\n",
        "  "
      ],
      "execution_count": 0,
      "outputs": []
    },
    {
      "cell_type": "code",
      "metadata": {
        "id": "NIeX-YL9ugSn",
        "colab_type": "code",
        "colab": {}
      },
      "source": [
        "from sklearn.utils import shuffle\n",
        "# final_images, final_labels = shuffle(images, target_labels)\n",
        "final_images, final_labels = images, target_labels"
      ],
      "execution_count": 0,
      "outputs": []
    },
    {
      "cell_type": "code",
      "metadata": {
        "id": "8Up15yeixp1q",
        "colab_type": "code",
        "colab": {}
      },
      "source": [
        "from sklearn.model_selection import train_test_split\n",
        "X_train, X_test, Y_train, Y_test = train_test_split(final_images, final_labels, test_size = 0.3, shuffle = True)"
      ],
      "execution_count": 0,
      "outputs": []
    },
    {
      "cell_type": "code",
      "metadata": {
        "id": "86L0g7eWb4EV",
        "colab_type": "code",
        "colab": {
          "base_uri": "https://localhost:8080/",
          "height": 561
        },
        "outputId": "3520e479-cfc5-4738-fc37-8e0a5f432ef2"
      },
      "source": [
        "import keras\n",
        "from keras.layers import Conv2D, MaxPooling2D, GlobalAveragePooling2D, Dropout, Dense\n",
        "from keras.models import Sequential\n",
        "\n",
        "cnn_model = Sequential()\n",
        "\n",
        "cnn_model.add(Conv2D (kernel_size = (3,3), filters = 16, input_shape = X_train.shape[1:], activation='relu'))\n",
        "cnn_model.add(MaxPooling2D(pool_size = 2))\n",
        "\n",
        "cnn_model.add(Conv2D(kernel_size = (3,3), filters = 32, activation='relu'))\n",
        "cnn_model.add(Dropout(0.4))\n",
        "cnn_model.add(MaxPooling2D(pool_size = 2))\n",
        " \n",
        "cnn_model.add(Conv2D(kernel_size = (5,5), filters = 64, activation='relu'))\n",
        "cnn_model.add(Dropout(0.2))\n",
        "cnn_model.add(MaxPooling2D(pool_size = 2))\n",
        "\n",
        "cnn_model.add(Conv2D(kernel_size = (5, 5), filters = 128, activation='relu'))\n",
        "# cnn_model.add(Dropout(0.1))\n",
        "cnn_model.add(MaxPooling2D(pool_size = 2))\n",
        "\n",
        "cnn_model.add(GlobalAveragePooling2D())\n",
        "\n",
        "cnn_model.add(Dense(10, activation = 'softmax'))\n",
        "\n",
        "cnn_model.summary()"
      ],
      "execution_count": 95,
      "outputs": [
        {
          "output_type": "stream",
          "text": [
            "Model: \"sequential_3\"\n",
            "_________________________________________________________________\n",
            "Layer (type)                 Output Shape              Param #   \n",
            "=================================================================\n",
            "conv2d_9 (Conv2D)            (None, 298, 298, 16)      448       \n",
            "_________________________________________________________________\n",
            "max_pooling2d_9 (MaxPooling2 (None, 149, 149, 16)      0         \n",
            "_________________________________________________________________\n",
            "conv2d_10 (Conv2D)           (None, 147, 147, 32)      4640      \n",
            "_________________________________________________________________\n",
            "dropout_5 (Dropout)          (None, 147, 147, 32)      0         \n",
            "_________________________________________________________________\n",
            "max_pooling2d_10 (MaxPooling (None, 73, 73, 32)        0         \n",
            "_________________________________________________________________\n",
            "conv2d_11 (Conv2D)           (None, 69, 69, 64)        51264     \n",
            "_________________________________________________________________\n",
            "dropout_6 (Dropout)          (None, 69, 69, 64)        0         \n",
            "_________________________________________________________________\n",
            "max_pooling2d_11 (MaxPooling (None, 34, 34, 64)        0         \n",
            "_________________________________________________________________\n",
            "conv2d_12 (Conv2D)           (None, 30, 30, 128)       204928    \n",
            "_________________________________________________________________\n",
            "max_pooling2d_12 (MaxPooling (None, 15, 15, 128)       0         \n",
            "_________________________________________________________________\n",
            "global_average_pooling2d_3 ( (None, 128)               0         \n",
            "_________________________________________________________________\n",
            "dense_3 (Dense)              (None, 10)                1290      \n",
            "=================================================================\n",
            "Total params: 262,570\n",
            "Trainable params: 262,570\n",
            "Non-trainable params: 0\n",
            "_________________________________________________________________\n"
          ],
          "name": "stdout"
        }
      ]
    },
    {
      "cell_type": "code",
      "metadata": {
        "id": "mFPUDkVDcA6b",
        "colab_type": "code",
        "colab": {}
      },
      "source": [
        "#Compile the model \n",
        "from keras.optimizers import adam\n",
        "\n",
        "myopt = adam( lr = 0.001, decay = 1e-5)\n",
        "\n",
        "cnn_model.compile(optimizer = myopt, \n",
        "                  loss='categorical_crossentropy',\n",
        "                  metrics=['accuracy'])"
      ],
      "execution_count": 0,
      "outputs": []
    },
    {
      "cell_type": "code",
      "metadata": {
        "id": "YvRbEVjIcFHb",
        "colab_type": "code",
        "colab": {
          "base_uri": "https://localhost:8080/",
          "height": 357
        },
        "outputId": "3a95b4d6-6656-41e7-9e09-3cdce1dea44f"
      },
      "source": [
        "H = cnn_model.fit(X_train, Y_train, epochs = 10, verbose=1) #Observe accuracy, train for 100+ epochs or till accuracy goes to 0.95\n",
        "#Accuracy went upto 1.0 when trained for 150(approx) epochs"
      ],
      "execution_count": 108,
      "outputs": [
        {
          "output_type": "stream",
          "text": [
            "Epoch 1/10\n",
            "980/980 [==============================] - 2s 2ms/step - loss: 0.0308 - acc: 0.9908\n",
            "Epoch 2/10\n",
            "980/980 [==============================] - 2s 2ms/step - loss: 0.0329 - acc: 0.9949\n",
            "Epoch 3/10\n",
            "980/980 [==============================] - 2s 2ms/step - loss: 0.0213 - acc: 0.9959\n",
            "Epoch 4/10\n",
            "980/980 [==============================] - 2s 2ms/step - loss: 0.0131 - acc: 0.9990\n",
            "Epoch 5/10\n",
            "980/980 [==============================] - 2s 2ms/step - loss: 0.0096 - acc: 0.9990\n",
            "Epoch 6/10\n",
            "980/980 [==============================] - 2s 2ms/step - loss: 0.0102 - acc: 0.9980\n",
            "Epoch 7/10\n",
            "980/980 [==============================] - 2s 2ms/step - loss: 0.0088 - acc: 1.0000\n",
            "Epoch 8/10\n",
            "980/980 [==============================] - 2s 2ms/step - loss: 0.0060 - acc: 1.0000\n",
            "Epoch 9/10\n",
            "980/980 [==============================] - 2s 2ms/step - loss: 0.0043 - acc: 1.0000\n",
            "Epoch 10/10\n",
            "980/980 [==============================] - 2s 2ms/step - loss: 0.0037 - acc: 1.0000\n"
          ],
          "name": "stdout"
        }
      ]
    },
    {
      "cell_type": "code",
      "metadata": {
        "id": "NLTajIn3dF18",
        "colab_type": "code",
        "colab": {
          "base_uri": "https://localhost:8080/",
          "height": 51
        },
        "outputId": "29301ce1-f16b-4375-d889-6ab52bbcd737"
      },
      "source": [
        "cnn_model.evaluate(X_test,Y_test, verbose = 1)  #Highest observed accuracy yet was 0.75"
      ],
      "execution_count": 109,
      "outputs": [
        {
          "output_type": "stream",
          "text": [
            "420/420 [==============================] - 1s 1ms/step\n"
          ],
          "name": "stdout"
        },
        {
          "output_type": "execute_result",
          "data": {
            "text/plain": [
              "[1.1691753882737386, 0.7404761904761905]"
            ]
          },
          "metadata": {
            "tags": []
          },
          "execution_count": 109
        }
      ]
    }
  ]
}