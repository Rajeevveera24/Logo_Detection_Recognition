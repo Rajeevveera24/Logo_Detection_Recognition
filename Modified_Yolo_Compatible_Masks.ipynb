{
  "nbformat": 4,
  "nbformat_minor": 0,
  "metadata": {
    "colab": {
      "name": "Modified_Yolo_Compatible_Masks.ipynb",
      "provenance": [],
      "collapsed_sections": []
    },
    "kernelspec": {
      "name": "python3",
      "display_name": "Python 3"
    },
    "accelerator": "GPU"
  },
  "cells": [
    {
      "cell_type": "markdown",
      "metadata": {
        "id": "b3ssJTQKcTBs",
        "colab_type": "text"
      },
      "source": [
        "This notebook takes the masks (bounding box labels) and changes them to the YOLO compatible format.\n",
        "\n",
        "Before running the notebook, copy all image files (without renaming any of them) to a subdirectory allImages.\n",
        "Then, copy all label text files to a subdirectory allMasks.\n",
        "\n",
        "These 2 subdirectories must be under the directory:\n",
        "'My\\ Drive/LogoDetection'\n",
        "\n",
        "The script will also rename the files in the allMasks sub directory to have them match with the names of the corresponding files in the allImages sub directory.\n",
        "\n",
        "Please run all the cells in order"
      ]
    },
    {
      "cell_type": "code",
      "metadata": {
        "id": "tXX1X3CT5NW9",
        "colab_type": "code",
        "outputId": "1393b486-3539-423a-ea0f-075ef9494246",
        "colab": {
          "base_uri": "https://localhost:8080/",
          "height": 128
        }
      },
      "source": [
        "from google.colab import drive\n",
        "drive.mount('/content/drive')"
      ],
      "execution_count": 2,
      "outputs": [
        {
          "output_type": "stream",
          "text": [
            "Go to this URL in a browser: https://accounts.google.com/o/oauth2/auth?client_id=947318989803-6bn6qk8qdgf4n4g3pfee6491hc0brc4i.apps.googleusercontent.com&redirect_uri=urn%3aietf%3awg%3aoauth%3a2.0%3aoob&response_type=code&scope=email%20https%3a%2f%2fwww.googleapis.com%2fauth%2fdocs.test%20https%3a%2f%2fwww.googleapis.com%2fauth%2fdrive%20https%3a%2f%2fwww.googleapis.com%2fauth%2fdrive.photos.readonly%20https%3a%2f%2fwww.googleapis.com%2fauth%2fpeopleapi.readonly\n",
            "\n",
            "Enter your authorization code:\n",
            "··········\n",
            "Mounted at /content/drive\n"
          ],
          "name": "stdout"
        }
      ]
    },
    {
      "cell_type": "code",
      "metadata": {
        "id": "qFfWF81X6QgI",
        "colab_type": "code",
        "outputId": "36d323ce-dc98-4c2a-e655-16162528e841",
        "colab": {
          "base_uri": "https://localhost:8080/",
          "height": 54
        }
      },
      "source": [
        "%cd drive/My\\ Drive/LogoDetection/\n",
        "#go to appropriate directory in drive - Here, LogoDetection/allMasks contains the unprocessed text files of the bounding boxes.\n",
        "#They have been copied into one folder (allMasks) without changing their names to maintain alphabetical ordering...\n",
        "#This notebook will rewrite them with the correct parameters and rename them appropriately..."
      ],
      "execution_count": 3,
      "outputs": [
        {
          "output_type": "stream",
          "text": [
            "[Errno 2] No such file or directory: 'drive/My Drive/LogoDetection/'\n",
            "/\n"
          ],
          "name": "stdout"
        }
      ]
    },
    {
      "cell_type": "code",
      "metadata": {
        "id": "Jbjf7t4B73zF",
        "colab_type": "code",
        "colab": {}
      },
      "source": [
        "import os\n",
        "import numpy as np\n",
        "import cv2\n",
        "import matplotlib.pyplot as plt"
      ],
      "execution_count": 0,
      "outputs": []
    },
    {
      "cell_type": "code",
      "metadata": {
        "id": "VVzTrbaHI7dS",
        "colab_type": "code",
        "outputId": "9e9cd19c-f242-4804-aac7-66f031975733",
        "colab": {
          "base_uri": "https://localhost:8080/",
          "height": 72
        }
      },
      "source": [
        "#Rename all the image files to lower case so as to maintain alphabetical ordering...\n",
        "\n",
        "%cd /\n",
        "%cd content/drive/My\\ Drive/LogoDetection/allImages\n",
        "\n",
        "cnt = 0\n",
        "for fil in sorted(os.listdir()):\n",
        "\n",
        "  if fil.endswith('.jpg'):\n",
        "    name = fil.lower()\n",
        "    os.rename(fil, name)\n",
        "    cnt += 1\n",
        "\n",
        "print(cnt)\n",
        "assert (cnt == 700)"
      ],
      "execution_count": 0,
      "outputs": [
        {
          "output_type": "stream",
          "text": [
            "/\n",
            "/content/drive/My Drive/LogoDetection/allImages\n",
            "700\n"
          ],
          "name": "stdout"
        }
      ]
    },
    {
      "cell_type": "code",
      "metadata": {
        "id": "NPf8megwMsUR",
        "colab_type": "code",
        "outputId": "519d0c2a-a242-4084-f2c2-743c25d73c59",
        "colab": {
          "base_uri": "https://localhost:8080/",
          "height": 54
        }
      },
      "source": [
        "#Capture the sizes of all the images...\n",
        "\n",
        "%cd /\n",
        "%cd content/drive/My\\ Drive/LogoDetection/allImages\n",
        "\n",
        "imageSizes = np.zeros((700,2))\n",
        "cnt = 0\n",
        "\n",
        "for fil in sorted(os.listdir()):\n",
        "  \n",
        "  assert fil.endswith('.jpg')\n",
        "\n",
        "  img = cv2.imread(fil)\n",
        "  # shape = img.shape[0]\n",
        "  imageSizes[cnt] = float(img.shape[0]), float(img.shape[1]) # height -0 , widht - 1\n",
        "  cnt += 1\n",
        "\n",
        "  if cnt % 70 == 0:\n",
        "    print(cnt)"
      ],
      "execution_count": 0,
      "outputs": [
        {
          "output_type": "stream",
          "text": [
            "/\n",
            "/content/drive/My Drive/LogoDetection/allImages\n"
          ],
          "name": "stdout"
        }
      ]
    },
    {
      "cell_type": "code",
      "metadata": {
        "id": "gZwifxTfRADG",
        "colab_type": "code",
        "outputId": "43c94786-4006-4543-bdc9-b64c01d4a98e",
        "colab": {
          "base_uri": "https://localhost:8080/",
          "height": 72
        }
      },
      "source": [
        "#Rename all the mask files to lower case so as to maintain alphabetical ordering...\n",
        "%cd /\n",
        "%cd content/drive/My\\ Drive/LogoDetection/allMasks\n",
        "\n",
        "cnt = 0\n",
        "for fil in sorted(os.listdir()):\n",
        "\n",
        "  if fil.endswith('.jpg.bboxes.txt'):\n",
        "    name = fil.lower()\n",
        "    os.rename(fil, name)\n",
        "    cnt += 1\n",
        "\n",
        "print(cnt)\n",
        "assert (cnt == 700)"
      ],
      "execution_count": 0,
      "outputs": [
        {
          "output_type": "stream",
          "text": [
            "/\n",
            "/content/drive/My Drive/LogoDetection/allMasks\n",
            "700\n"
          ],
          "name": "stdout"
        }
      ]
    },
    {
      "cell_type": "code",
      "metadata": {
        "id": "Q7Q26s1XRWdD",
        "colab_type": "code",
        "outputId": "1cbc828b-b8ba-4d2b-dc53-d44ceb79a925",
        "colab": {
          "base_uri": "https://localhost:8080/",
          "height": 254
        }
      },
      "source": [
        "#This cell will retrieve the bounding box labels, change them to the correct format and store them in a .txt file which matches\n",
        "# the name of the image file in allImages directory. It will then remove(delete) the old mask (.txt) files from this directory...\n",
        "\n",
        "%cd /\n",
        "%cd content/drive/My\\ Drive/LogoDetection/allMasks\n",
        "\n",
        "cnt = 0\n",
        "\n",
        "# labels = np.zeros((700, 5), dtype = 'float32')/\n",
        "\n",
        "temp = sorted(os.listdir())\n",
        "\n",
        "for fil in sorted(temp):\n",
        "\n",
        "    assert fil.endswith('.jpg.bboxes.txt')\n",
        "\n",
        "    f = open(fil, \"r\")\n",
        "    boxes = f.readlines()\n",
        "\n",
        "    name = str(fil.split('.')[0]) + '.txt'\n",
        "\n",
        "    f1 = open(name, \"w\")\n",
        "  \n",
        "    for box in boxes:\n",
        "\n",
        "        param = box.split()\n",
        "\n",
        "        w1 = float(param[0])\n",
        "        h1 = float(param[1])\n",
        "        w2 = float(param[2]) + w1\n",
        "        h2 = float(param[3]) + h1\n",
        "\n",
        "        h = imageSizes[cnt][0]\n",
        "        w = imageSizes[cnt][1]\n",
        "\n",
        "        x_center = float((w1 + w2) / 2)\n",
        "        x_center = float(x_center / w)\n",
        "\n",
        "        y_center = float((h1 + h2) / 2)\n",
        "        y_center = float(y_center / h)\n",
        "\n",
        "        width = float((w2 - w1) / w)\n",
        "        height = float((h2 - h1) / h)\n",
        "\n",
        "        # labels[cnt] = int((cnt // 70)), x_center, y_center, width, height\n",
        "\n",
        "        l = int(cnt//70)\n",
        "\n",
        "        # labels = str(str(a) + \" \" + str(b) + \" \" + str(c) + \" \" + str(d))\n",
        "        labels = str(str(l) + \" \" + str(x_center) + \" \" + str(y_center) + \" \" + str(width) + \" \" + str(height))\n",
        "\n",
        "        f1.write(str(labels + \"\\n\"))\n",
        "\n",
        "    f1.close()\n",
        "    f.close()\n",
        "\n",
        "    os.remove(fil)\n",
        "\n",
        "    cnt += 1\n",
        "\n",
        "    if cnt % 70 == 0:\n",
        "        print(cnt)\n",
        "  \n",
        "  \n",
        "\n",
        "print(cnt)\n",
        "assert (cnt == 700)"
      ],
      "execution_count": 0,
      "outputs": [
        {
          "output_type": "stream",
          "text": [
            "/\n",
            "/content/drive/My Drive/LogoDetection/allMasks\n",
            "70\n",
            "140\n",
            "210\n",
            "280\n",
            "350\n",
            "420\n",
            "490\n",
            "560\n",
            "630\n",
            "700\n",
            "700\n"
          ],
          "name": "stdout"
        }
      ]
    },
    {
      "cell_type": "markdown",
      "metadata": {
        "id": "5dopghqw9v60",
        "colab_type": "text"
      },
      "source": [
        "This below cell is experimental to see how data can be read and written to a file...**bold text**"
      ]
    },
    {
      "cell_type": "code",
      "metadata": {
        "id": "ltRdcXHusljI",
        "colab_type": "code",
        "outputId": "28d6496d-bd32-43dc-ff87-1f5ccc2d9193",
        "colab": {
          "base_uri": "https://localhost:8080/",
          "height": 90
        }
      },
      "source": [
        "# f = open('temp.txt', \"r\")\n",
        "# f1 = open('temp1.txt', \"w\")\n",
        "\n",
        "# boxes = f.readlines()\n",
        "\n",
        "\n",
        "# for box in boxes:\n",
        "  \n",
        "#   b1 = box.split()\n",
        "  \n",
        "#   a = int(b1[0])\n",
        "#   b = int(b1[1])\n",
        "#   c = int(b1[2])\n",
        "#   d = int(b1[3])\n",
        "\n",
        "#   labels = str(str(a) + \" \" + str(b) + \" \" + str(c) + \" \" + str(d))\n",
        "#   print(labels)\n",
        "#   f1.write(str(labels + \"\\n\"))\n",
        "\n",
        "# f.close()\n",
        "# f1.close()\n",
        "\n",
        "# # print(l)"
      ],
      "execution_count": 0,
      "outputs": [
        {
          "output_type": "stream",
          "text": [
            "1 4 5 7\n",
            "4 5 6 7\n",
            "2 6 3 0\n",
            "4 5 6 1\n"
          ],
          "name": "stdout"
        }
      ]
    },
    {
      "cell_type": "markdown",
      "metadata": {
        "id": "bw4OSmB_M94T",
        "colab_type": "text"
      },
      "source": [
        "To check whether the images and masks have been correctly created, run the following cell.\n",
        "The original image along with the cropped logo should be displayed..."
      ]
    },
    {
      "cell_type": "code",
      "metadata": {
        "id": "rYvNTO2JM6yg",
        "colab_type": "code",
        "colab": {
          "base_uri": "https://localhost:8080/",
          "height": 189
        },
        "outputId": "4c1ca133-3b08-47db-9062-28236c5378af"
      },
      "source": [
        "%cd /\n",
        "%cd content/drive/My\\ Drive/LogoDetection/\n",
        "\n",
        "img = cv2.imread('allImages/supreme63.jpg')\n",
        "\n",
        "f = open('allMasks/supreme63.txt', \"r\")\n",
        "\n",
        "box = f.read().split()\n",
        "\n",
        "h = img.shape[0]\n",
        "w = img.shape[1]\n",
        "\n",
        "\n",
        "x_center = int(float(box[1]) * w)\n",
        "y_center = int(float(box[2]) * h)\n",
        "width = int(float(box[3]) * w)\n",
        "height = int(float(box[4]) * h)\n",
        "\n",
        "print(x_center, y_center)\n",
        "\n",
        "fig, axis = plt.subplots(1, 2)\n",
        "\n",
        "axis[0].imshow(img)\n",
        "axis[1].imshow(img[ y_center - height//2 : y_center + height//2, x_center - width//2 : x_center + width//2, :])\n",
        "\n",
        "f.close()"
      ],
      "execution_count": 5,
      "outputs": [
        {
          "output_type": "stream",
          "text": [
            "/\n",
            "/content/drive/My Drive/LogoDetection\n",
            "509 230\n"
          ],
          "name": "stdout"
        },
        {
          "output_type": "display_data",
          "data": {
            "image/png": "[encoded data removed]",
            "text/plain": [
              "<Figure size 432x288 with 2 Axes>"
            ]
          },
          "metadata": {
            "tags": [],
            "needs_background": "light"
          }
        }
      ]
    }
  ]
}